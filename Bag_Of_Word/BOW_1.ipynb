{
 "cells": [
  {
   "cell_type": "code",
   "execution_count": 1,
   "id": "6af0ac7d",
   "metadata": {},
   "outputs": [],
   "source": [
    "from keras.preprocessing.text import Tokenizer"
   ]
  },
  {
   "cell_type": "code",
   "execution_count": 2,
   "id": "e13811a7",
   "metadata": {},
   "outputs": [
    {
     "data": {
      "text/plain": [
       "['I want to eat apple pie.', 'I am eating an apple']"
      ]
     },
     "execution_count": 2,
     "metadata": {},
     "output_type": "execute_result"
    }
   ],
   "source": [
    "docs = [\n",
    "    'I want to eat apple pie.',\n",
    "#     'Is it good to eat an apple a day?',\n",
    "#     'Can I eat apple in empty stomach?',\n",
    "#     'The apple can also be cooked in soup.',\n",
    "    'I am eating an apple',\n",
    "]\n",
    "docs"
   ]
  },
  {
   "cell_type": "code",
   "execution_count": 3,
   "id": "2cd49138",
   "metadata": {},
   "outputs": [
    {
     "name": "stdout",
     "output_type": "stream",
     "text": [
      "vocabulary: ['i', 'apple', 'want', 'to', 'eat', 'pie', 'am', 'eating', 'an']\n"
     ]
    }
   ],
   "source": [
    "#Determine the Vocabulary\n",
    "tokenizer = Tokenizer()\n",
    "tokenizer.fit_on_texts(docs)\n",
    "print(f'vocabulary: {list(tokenizer.word_index.keys())}')"
   ]
  },
  {
   "cell_type": "code",
   "execution_count": 4,
   "id": "10544d9d",
   "metadata": {},
   "outputs": [
    {
     "data": {
      "text/plain": [
       "array([[0., 1., 1., 1., 1., 1., 1., 0., 0., 0.],\n",
       "       [0., 1., 1., 0., 0., 0., 0., 1., 1., 1.]])"
      ]
     },
     "execution_count": 4,
     "metadata": {},
     "output_type": "execute_result"
    }
   ],
   "source": [
    "#Covert text to matrix\n",
    "vectors =  tokenizer.texts_to_matrix(docs, mode='count')\n",
    "vectors"
   ]
  }
 ],
 "metadata": {
  "kernelspec": {
   "display_name": "Python 3",
   "language": "python",
   "name": "python3"
  },
  "language_info": {
   "codemirror_mode": {
    "name": "ipython",
    "version": 3
   },
   "file_extension": ".py",
   "mimetype": "text/x-python",
   "name": "python",
   "nbconvert_exporter": "python",
   "pygments_lexer": "ipython3",
   "version": "3.8.8"
  }
 },
 "nbformat": 4,
 "nbformat_minor": 5
}
